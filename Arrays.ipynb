{
  "nbformat": 4,
  "nbformat_minor": 0,
  "metadata": {
    "colab": {
      "name": "Arrays.ipynb",
      "provenance": [],
      "collapsed_sections": [],
      "include_colab_link": true
    },
    "kernelspec": {
      "name": "python3",
      "display_name": "Python 3"
    },
    "language_info": {
      "name": "python"
    }
  },
  "cells": [
    {
      "cell_type": "markdown",
      "metadata": {
        "id": "view-in-github",
        "colab_type": "text"
      },
      "source": [
        "<a href=\"https://colab.research.google.com/github/gladiator1410/projects/blob/main/Arrays.ipynb\" target=\"_parent\"><img src=\"https://colab.research.google.com/assets/colab-badge.svg\" alt=\"Open In Colab\"/></a>"
      ]
    },
    {
      "cell_type": "code",
      "source": [
        "def sum(*args):\n",
        "  _sum = 0\n",
        "  for arg in args:\n",
        "    _sum += arg\n",
        "  return _sum\n",
        "\n",
        "sum(1, 2, 3)"
      ],
      "metadata": {
        "colab": {
          "base_uri": "https://localhost:8080/"
        },
        "id": "8UdjGDATlmu6",
        "outputId": "f8d3332f-03f8-47b6-f15d-3b598bd61190"
      },
      "execution_count": null,
      "outputs": [
        {
          "output_type": "execute_result",
          "data": {
            "text/plain": [
              "6"
            ]
          },
          "metadata": {},
          "execution_count": 1
        }
      ]
    },
    {
      "cell_type": "markdown",
      "source": [
        "### Given an array of numbers and a number \"k\", return the number of occurences of the number in the array.\n"
      ],
      "metadata": {
        "id": "-4CFE_XqnM27"
      }
    },
    {
      "cell_type": "code",
      "source": [
        "def num_occurrences(array: list, number: int) -> int:\n",
        "    # add the code here.\n",
        "    pass\n",
        "\n",
        "print(num_occurrences([1,2,3,2,3,2,3], 3))"
      ],
      "metadata": {
        "colab": {
          "base_uri": "https://localhost:8080/"
        },
        "id": "jz10kpOjmqDu",
        "outputId": "98aab053-041d-4ed1-8996-608a9d116269"
      },
      "execution_count": null,
      "outputs": [
        {
          "output_type": "stream",
          "name": "stdout",
          "text": [
            "None\n"
          ]
        }
      ]
    },
    {
      "cell_type": "code",
      "source": [
        ""
      ],
      "metadata": {
        "id": "1EdAsfUUnMAx"
      },
      "execution_count": null,
      "outputs": []
    }
  ]
}